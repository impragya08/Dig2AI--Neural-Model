{
 "cells": [
  {
   "cell_type": "code",
   "execution_count": 1,
   "id": "cfe422a1",
   "metadata": {
    "_cell_guid": "b1076dfc-b9ad-4769-8c92-a6c4dae69d19",
    "_uuid": "8f2839f25d086af736a60e9eeb907d3b93b6e0e5",
    "execution": {
     "iopub.execute_input": "2023-03-20T21:33:44.380446Z",
     "iopub.status.busy": "2023-03-20T21:33:44.379716Z",
     "iopub.status.idle": "2023-03-20T21:33:44.389525Z",
     "shell.execute_reply": "2023-03-20T21:33:44.388499Z"
    },
    "papermill": {
     "duration": 0.020217,
     "end_time": "2023-03-20T21:33:44.392020",
     "exception": false,
     "start_time": "2023-03-20T21:33:44.371803",
     "status": "completed"
    },
    "tags": []
   },
   "outputs": [],
   "source": [
    "\n",
    "import numpy as np # linear algebra\n",
    "import pandas as pd # data processing, CSV file I/O (e.g. pd.read_csv)\n",
    "from matplotlib import pyplot as plt\n",
    "\n"
   ]
  },
  {
   "cell_type": "code",
   "execution_count": 2,
   "id": "f5f5ba2d",
   "metadata": {
    "execution": {
     "iopub.execute_input": "2023-03-20T21:33:44.403750Z",
     "iopub.status.busy": "2023-03-20T21:33:44.403312Z",
     "iopub.status.idle": "2023-03-20T21:33:48.200180Z",
     "shell.execute_reply": "2023-03-20T21:33:48.199086Z"
    },
    "papermill": {
     "duration": 3.806216,
     "end_time": "2023-03-20T21:33:48.203425",
     "exception": false,
     "start_time": "2023-03-20T21:33:44.397209",
     "status": "completed"
    },
    "tags": []
   },
   "outputs": [],
   "source": [
    "#Adding the dataset\n",
    "\n",
    "data= pd.read_csv('/kaggle/input/digit-recognizer/train.csv')"
   ]
  },
  {
   "cell_type": "code",
   "execution_count": 3,
   "id": "def79991",
   "metadata": {
    "execution": {
     "iopub.execute_input": "2023-03-20T21:33:48.215548Z",
     "iopub.status.busy": "2023-03-20T21:33:48.214647Z",
     "iopub.status.idle": "2023-03-20T21:33:48.248956Z",
     "shell.execute_reply": "2023-03-20T21:33:48.247704Z"
    },
    "papermill": {
     "duration": 0.043874,
     "end_time": "2023-03-20T21:33:48.252271",
     "exception": false,
     "start_time": "2023-03-20T21:33:48.208397",
     "status": "completed"
    },
    "tags": []
   },
   "outputs": [
    {
     "data": {
      "text/html": [
       "<div>\n",
       "<style scoped>\n",
       "    .dataframe tbody tr th:only-of-type {\n",
       "        vertical-align: middle;\n",
       "    }\n",
       "\n",
       "    .dataframe tbody tr th {\n",
       "        vertical-align: top;\n",
       "    }\n",
       "\n",
       "    .dataframe thead th {\n",
       "        text-align: right;\n",
       "    }\n",
       "</style>\n",
       "<table border=\"1\" class=\"dataframe\">\n",
       "  <thead>\n",
       "    <tr style=\"text-align: right;\">\n",
       "      <th></th>\n",
       "      <th>label</th>\n",
       "      <th>pixel0</th>\n",
       "      <th>pixel1</th>\n",
       "      <th>pixel2</th>\n",
       "      <th>pixel3</th>\n",
       "      <th>pixel4</th>\n",
       "      <th>pixel5</th>\n",
       "      <th>pixel6</th>\n",
       "      <th>pixel7</th>\n",
       "      <th>pixel8</th>\n",
       "      <th>...</th>\n",
       "      <th>pixel774</th>\n",
       "      <th>pixel775</th>\n",
       "      <th>pixel776</th>\n",
       "      <th>pixel777</th>\n",
       "      <th>pixel778</th>\n",
       "      <th>pixel779</th>\n",
       "      <th>pixel780</th>\n",
       "      <th>pixel781</th>\n",
       "      <th>pixel782</th>\n",
       "      <th>pixel783</th>\n",
       "    </tr>\n",
       "  </thead>\n",
       "  <tbody>\n",
       "    <tr>\n",
       "      <th>0</th>\n",
       "      <td>1</td>\n",
       "      <td>0</td>\n",
       "      <td>0</td>\n",
       "      <td>0</td>\n",
       "      <td>0</td>\n",
       "      <td>0</td>\n",
       "      <td>0</td>\n",
       "      <td>0</td>\n",
       "      <td>0</td>\n",
       "      <td>0</td>\n",
       "      <td>...</td>\n",
       "      <td>0</td>\n",
       "      <td>0</td>\n",
       "      <td>0</td>\n",
       "      <td>0</td>\n",
       "      <td>0</td>\n",
       "      <td>0</td>\n",
       "      <td>0</td>\n",
       "      <td>0</td>\n",
       "      <td>0</td>\n",
       "      <td>0</td>\n",
       "    </tr>\n",
       "    <tr>\n",
       "      <th>1</th>\n",
       "      <td>0</td>\n",
       "      <td>0</td>\n",
       "      <td>0</td>\n",
       "      <td>0</td>\n",
       "      <td>0</td>\n",
       "      <td>0</td>\n",
       "      <td>0</td>\n",
       "      <td>0</td>\n",
       "      <td>0</td>\n",
       "      <td>0</td>\n",
       "      <td>...</td>\n",
       "      <td>0</td>\n",
       "      <td>0</td>\n",
       "      <td>0</td>\n",
       "      <td>0</td>\n",
       "      <td>0</td>\n",
       "      <td>0</td>\n",
       "      <td>0</td>\n",
       "      <td>0</td>\n",
       "      <td>0</td>\n",
       "      <td>0</td>\n",
       "    </tr>\n",
       "    <tr>\n",
       "      <th>2</th>\n",
       "      <td>1</td>\n",
       "      <td>0</td>\n",
       "      <td>0</td>\n",
       "      <td>0</td>\n",
       "      <td>0</td>\n",
       "      <td>0</td>\n",
       "      <td>0</td>\n",
       "      <td>0</td>\n",
       "      <td>0</td>\n",
       "      <td>0</td>\n",
       "      <td>...</td>\n",
       "      <td>0</td>\n",
       "      <td>0</td>\n",
       "      <td>0</td>\n",
       "      <td>0</td>\n",
       "      <td>0</td>\n",
       "      <td>0</td>\n",
       "      <td>0</td>\n",
       "      <td>0</td>\n",
       "      <td>0</td>\n",
       "      <td>0</td>\n",
       "    </tr>\n",
       "    <tr>\n",
       "      <th>3</th>\n",
       "      <td>4</td>\n",
       "      <td>0</td>\n",
       "      <td>0</td>\n",
       "      <td>0</td>\n",
       "      <td>0</td>\n",
       "      <td>0</td>\n",
       "      <td>0</td>\n",
       "      <td>0</td>\n",
       "      <td>0</td>\n",
       "      <td>0</td>\n",
       "      <td>...</td>\n",
       "      <td>0</td>\n",
       "      <td>0</td>\n",
       "      <td>0</td>\n",
       "      <td>0</td>\n",
       "      <td>0</td>\n",
       "      <td>0</td>\n",
       "      <td>0</td>\n",
       "      <td>0</td>\n",
       "      <td>0</td>\n",
       "      <td>0</td>\n",
       "    </tr>\n",
       "    <tr>\n",
       "      <th>4</th>\n",
       "      <td>0</td>\n",
       "      <td>0</td>\n",
       "      <td>0</td>\n",
       "      <td>0</td>\n",
       "      <td>0</td>\n",
       "      <td>0</td>\n",
       "      <td>0</td>\n",
       "      <td>0</td>\n",
       "      <td>0</td>\n",
       "      <td>0</td>\n",
       "      <td>...</td>\n",
       "      <td>0</td>\n",
       "      <td>0</td>\n",
       "      <td>0</td>\n",
       "      <td>0</td>\n",
       "      <td>0</td>\n",
       "      <td>0</td>\n",
       "      <td>0</td>\n",
       "      <td>0</td>\n",
       "      <td>0</td>\n",
       "      <td>0</td>\n",
       "    </tr>\n",
       "  </tbody>\n",
       "</table>\n",
       "<p>5 rows × 785 columns</p>\n",
       "</div>"
      ],
      "text/plain": [
       "   label  pixel0  pixel1  pixel2  pixel3  pixel4  pixel5  pixel6  pixel7  \\\n",
       "0      1       0       0       0       0       0       0       0       0   \n",
       "1      0       0       0       0       0       0       0       0       0   \n",
       "2      1       0       0       0       0       0       0       0       0   \n",
       "3      4       0       0       0       0       0       0       0       0   \n",
       "4      0       0       0       0       0       0       0       0       0   \n",
       "\n",
       "   pixel8  ...  pixel774  pixel775  pixel776  pixel777  pixel778  pixel779  \\\n",
       "0       0  ...         0         0         0         0         0         0   \n",
       "1       0  ...         0         0         0         0         0         0   \n",
       "2       0  ...         0         0         0         0         0         0   \n",
       "3       0  ...         0         0         0         0         0         0   \n",
       "4       0  ...         0         0         0         0         0         0   \n",
       "\n",
       "   pixel780  pixel781  pixel782  pixel783  \n",
       "0         0         0         0         0  \n",
       "1         0         0         0         0  \n",
       "2         0         0         0         0  \n",
       "3         0         0         0         0  \n",
       "4         0         0         0         0  \n",
       "\n",
       "[5 rows x 785 columns]"
      ]
     },
     "execution_count": 3,
     "metadata": {},
     "output_type": "execute_result"
    }
   ],
   "source": [
    "#The head () function is used to get the first n rows.\n",
    "#It is helpful for quickly testing if your object has the right type of data in it.\n",
    "#For negative values of n,the head () function returns all rows except the last n rows, equivalent to df [:-n].\n",
    "\n",
    "data.head()"
   ]
  },
  {
   "cell_type": "markdown",
   "id": "e6d78ba2",
   "metadata": {
    "papermill": {
     "duration": 0.004799,
     "end_time": "2023-03-20T21:33:48.262297",
     "exception": false,
     "start_time": "2023-03-20T21:33:48.257498",
     "status": "completed"
    },
    "tags": []
   },
   "source": []
  },
  {
   "cell_type": "markdown",
   "id": "b76483f9",
   "metadata": {
    "papermill": {
     "duration": 0.004866,
     "end_time": "2023-03-20T21:33:48.272337",
     "exception": false,
     "start_time": "2023-03-20T21:33:48.267471",
     "status": "completed"
    },
    "tags": []
   },
   "source": [
    "> **Data and Dataset**"
   ]
  },
  {
   "cell_type": "markdown",
   "id": "79615703",
   "metadata": {
    "papermill": {
     "duration": 0.004801,
     "end_time": "2023-03-20T21:33:48.282183",
     "exception": false,
     "start_time": "2023-03-20T21:33:48.277382",
     "status": "completed"
    },
    "tags": []
   },
   "source": [
    "Now split data into dev and training set\n",
    "Risk-*Overfitting*\n",
    "It may happen that your model maybe exactly figuring out the exact pridiction for your *\"*training data\"* *\n",
    "but not generalize data where you actually want to\n",
    "that's *Dev/Cross-Validation Data *where you don't want to generalize-test performance data\n"
   ]
  },
  {
   "cell_type": "code",
   "execution_count": 4,
   "id": "8ccab8cd",
   "metadata": {
    "execution": {
     "iopub.execute_input": "2023-03-20T21:33:48.294368Z",
     "iopub.status.busy": "2023-03-20T21:33:48.293966Z",
     "iopub.status.idle": "2023-03-20T21:33:49.098541Z",
     "shell.execute_reply": "2023-03-20T21:33:49.097235Z"
    },
    "papermill": {
     "duration": 0.813858,
     "end_time": "2023-03-20T21:33:49.101218",
     "exception": false,
     "start_time": "2023-03-20T21:33:48.287360",
     "status": "completed"
    },
    "tags": []
   },
   "outputs": [],
   "source": [
    "#Now split data into dev and training set\n",
    "data=np.array(data)\n",
    "m,n = data.shape\n",
    "np.random.shuffle(data)\n",
    "\n",
    "\n",
    "#T for transpose so that each column is eg rather than each row for convinence\n",
    "data_dev=data[0:1000].T\n",
    "Y_dev=data_dev[0]\n",
    "X_dev=data_dev[1:n]\n",
    "X_dev=X_dev/255.\n",
    "\n",
    "data_train= data[1000:m].T\n",
    "Y_train=data_train[0]\n",
    "X_train=data_train[1:n]\n",
    "X_train=X_train/255.\n",
    "_,m_train=X_train.shape\n"
   ]
  },
  {
   "cell_type": "markdown",
   "id": "5cd306b0",
   "metadata": {
    "papermill": {
     "duration": 0.00486,
     "end_time": "2023-03-20T21:33:49.111790",
     "exception": false,
     "start_time": "2023-03-20T21:33:49.106930",
     "status": "completed"
    },
    "tags": []
   },
   "source": [
    "> **Starting with Neural Network**"
   ]
  },
  {
   "cell_type": "code",
   "execution_count": 5,
   "id": "48d8f06e",
   "metadata": {
    "execution": {
     "iopub.execute_input": "2023-03-20T21:33:49.124489Z",
     "iopub.status.busy": "2023-03-20T21:33:49.123665Z",
     "iopub.status.idle": "2023-03-20T21:33:49.131074Z",
     "shell.execute_reply": "2023-03-20T21:33:49.129639Z"
    },
    "papermill": {
     "duration": 0.016496,
     "end_time": "2023-03-20T21:33:49.133560",
     "exception": false,
     "start_time": "2023-03-20T21:33:49.117064",
     "status": "completed"
    },
    "tags": []
   },
   "outputs": [],
   "source": [
    "#Initializing parameters\n",
    "def init_params():\n",
    "    #784 pixels to 10 classes\n",
    "    W1=np.random.randn(10,784)- 0.5  #this generates diff values from 0 to 1 and we sub 0.5 toget b/w -0.5 to 0.5\n",
    "    b1=np.random.randn(10,1)- 0.5\n",
    "    W2=np.random.randn(10,10)- 0.5\n",
    "    b2=np.random.randn(10,1)- 0.5\n",
    "    return W1,b1,W2,b2\n",
    "    \n",
    "    "
   ]
  },
  {
   "cell_type": "code",
   "execution_count": 6,
   "id": "94715705",
   "metadata": {
    "execution": {
     "iopub.execute_input": "2023-03-20T21:33:49.145996Z",
     "iopub.status.busy": "2023-03-20T21:33:49.145521Z",
     "iopub.status.idle": "2023-03-20T21:33:49.152834Z",
     "shell.execute_reply": "2023-03-20T21:33:49.151606Z"
    },
    "papermill": {
     "duration": 0.016649,
     "end_time": "2023-03-20T21:33:49.155422",
     "exception": false,
     "start_time": "2023-03-20T21:33:49.138773",
     "status": "completed"
    },
    "tags": []
   },
   "outputs": [],
   "source": [
    "    #Forward propagation\n",
    "    def ReLU(Z):   #Rectified Linear Unit\n",
    "        return np.maximum(Z,0)  #returns if >0 return Z else 0\n",
    "    def SoftMax(Z):\n",
    "        A= np.exp(Z)/ np.sum(np.exp(Z))\n",
    "        return A\n",
    "    #np.sum preserves columns and collapses rows to one row and we want sum of each columns\n",
    "    \n",
    "    def forward_prop(W1,b1,W2,b2,X):\n",
    "        Z1=W1.dot(X)+b1\n",
    "        A1=ReLU(Z1)\n",
    "        Z2=W2.dot(A1)+b2\n",
    "        A2=SoftMax(A1)\n",
    "        return Z1,A1,Z2,A2\n",
    "    \n",
    "    \n",
    "    \n",
    "  \n",
    " "
   ]
  },
  {
   "cell_type": "markdown",
   "id": "81552199",
   "metadata": {
    "papermill": {
     "duration": 0.005352,
     "end_time": "2023-03-20T21:33:49.166298",
     "exception": false,
     "start_time": "2023-03-20T21:33:49.160946",
     "status": "completed"
    },
    "tags": []
   },
   "source": [
    "The function creates an array of zeros called one_hot_Y with dimensions (Y.size, Y.max()+1). The Y.max()+1 term ensures that there is a column in one_hot_Y for each unique value in Y. For example, if Y contains values ranging from 0 to 2, then one_hot_Y will have 3 columns.\n",
    "\n",
    "The function uses NumPy's arange function to generate an array of integers from 0 to Y.size - 1. This array is used to index into one_hot_Y along the first axis (i.e., the rows).\n",
    "\n",
    "The function uses the original Y array to index into one_hot_Y along the second axis (i.e., the columns) and set the corresponding elements to 1. This step creates the one-hot encoded version of Y.\n",
    "\n",
    "The function returns the one-hot encoded Y array."
   ]
  },
  {
   "cell_type": "code",
   "execution_count": 7,
   "id": "086fc456",
   "metadata": {
    "execution": {
     "iopub.execute_input": "2023-03-20T21:33:49.178676Z",
     "iopub.status.busy": "2023-03-20T21:33:49.178310Z",
     "iopub.status.idle": "2023-03-20T21:33:49.188057Z",
     "shell.execute_reply": "2023-03-20T21:33:49.187074Z"
    },
    "papermill": {
     "duration": 0.018947,
     "end_time": "2023-03-20T21:33:49.190580",
     "exception": false,
     "start_time": "2023-03-20T21:33:49.171633",
     "status": "completed"
    },
    "tags": []
   },
   "outputs": [],
   "source": [
    "#Back propagation\n",
    "#first it creates one new matrix one hot Y with np zeros\n",
    "def one_hot(Y):\n",
    "    one_hot_Y=np.zeros((Y.size,Y.max()+1))\n",
    "    one_hot_Y[np.arange(Y.size),Y]=1  #Y.size=row & Y column\n",
    "    #go to each row and column specified by the label in Y and turn it into 1\n",
    "    one_hot_Y=one_hot_Y.T\n",
    "    #right now each row was eg we wanted columns to be an eg\n",
    "    return one_hot_Y\n",
    "\n",
    "def deriv_ReLU(Z):\n",
    "    return Z>0   #consider the graph\n",
    "\n",
    "def back_prop(Z1,A1,Z2,A2,W1,W2,X,Y):\n",
    "    one_hot_Y=one_hot(Y)\n",
    "    #dZ2=error in second layer\n",
    "    dZ2 = A2 - one_hot_Y\n",
    "    dW2 = 1 / m * dZ2.dot(A1.T)\n",
    "    db2 = 1 / m * np.sum(dZ2)\n",
    "    dZ1 = W2.T.dot(dZ2) * deriv_ReLU(Z1)\n",
    "    dW1 = 1 / m * dZ1.dot(X.T)\n",
    "    db1 = 1 / m * np.sum(dZ1)\n",
    "    return dW1,db1,dW2,db2\n",
    "\n",
    "def update_params(W1,b1,W2,b2,dW1,db1,dW2,db2,alpha):\n",
    "    W1 = W1 - alpha * dW1\n",
    "    b1 = b1 - alpha * db1\n",
    "    W2 = W2 - alpha * dW2\n",
    "    b2 = b2 - alpha * db2\n",
    "    return W1,b1,W2,b2\n",
    "    \n",
    "    \n",
    "\n",
    "    \n"
   ]
  },
  {
   "cell_type": "code",
   "execution_count": 8,
   "id": "52159432",
   "metadata": {
    "execution": {
     "iopub.execute_input": "2023-03-20T21:33:49.203008Z",
     "iopub.status.busy": "2023-03-20T21:33:49.202546Z",
     "iopub.status.idle": "2023-03-20T21:33:49.208988Z",
     "shell.execute_reply": "2023-03-20T21:33:49.207603Z"
    },
    "papermill": {
     "duration": 0.01571,
     "end_time": "2023-03-20T21:33:49.211530",
     "exception": false,
     "start_time": "2023-03-20T21:33:49.195820",
     "status": "completed"
    },
    "tags": []
   },
   "outputs": [],
   "source": [
    "def get_predictions(A2):\n",
    "    return np.argmax(A2, 0)\n",
    "\n",
    "def get_accuracy(predictions, Y):\n",
    "    print(predictions, Y)\n",
    "    return np.sum(predictions == Y) / Y.size"
   ]
  },
  {
   "cell_type": "code",
   "execution_count": 9,
   "id": "0ffd79d5",
   "metadata": {
    "execution": {
     "iopub.execute_input": "2023-03-20T21:33:49.223740Z",
     "iopub.status.busy": "2023-03-20T21:33:49.223315Z",
     "iopub.status.idle": "2023-03-20T21:33:49.231769Z",
     "shell.execute_reply": "2023-03-20T21:33:49.230609Z"
    },
    "papermill": {
     "duration": 0.017506,
     "end_time": "2023-03-20T21:33:49.234167",
     "exception": false,
     "start_time": "2023-03-20T21:33:49.216661",
     "status": "completed"
    },
    "tags": []
   },
   "outputs": [],
   "source": [
    "def gradient_descent(X,Y,iterations,alpha):\n",
    "    W1,b1,W2,b2=init_params()\n",
    "    for i in range(iterations):\n",
    "        Z1,A1,Z2,A2=forward_prop(W1,b1,W2,b2,X)\n",
    "        dW1,db1,dW2,db2=back_prop(Z1, A1, Z2, A2, W1, W2, X, Y)\n",
    "        W1,b1,W2,b2=update_params(W1,b1,W2,b2,dW1,db1,dW2,db2,alpha)\n",
    "        if(i%10==0):\n",
    "            print(\"Iteration: \", i)\n",
    "            predictions = get_predictions(A2)\n",
    "            print(get_accuracy(predictions, Y))\n",
    "    return W1,b1,W2,b2"
   ]
  },
  {
   "cell_type": "code",
   "execution_count": 10,
   "id": "9aad87ec",
   "metadata": {
    "execution": {
     "iopub.execute_input": "2023-03-20T21:33:49.246471Z",
     "iopub.status.busy": "2023-03-20T21:33:49.246036Z",
     "iopub.status.idle": "2023-03-20T21:35:06.685896Z",
     "shell.execute_reply": "2023-03-20T21:35:06.684088Z"
    },
    "papermill": {
     "duration": 77.451797,
     "end_time": "2023-03-20T21:35:06.691077",
     "exception": false,
     "start_time": "2023-03-20T21:33:49.239280",
     "status": "completed"
    },
    "tags": []
   },
   "outputs": [
    {
     "name": "stdout",
     "output_type": "stream",
     "text": [
      "Iteration:  0\n",
      "[0 0 0 ... 0 0 0] [3 0 9 ... 7 0 3]\n",
      "0.09836585365853659\n",
      "Iteration:  10\n",
      "[0 0 0 ... 0 0 0] [3 0 9 ... 7 0 3]\n",
      "0.09836585365853659\n",
      "Iteration:  20\n",
      "[0 0 0 ... 0 0 0] [3 0 9 ... 7 0 3]\n",
      "0.09836585365853659\n",
      "Iteration:  30\n",
      "[0 0 0 ... 0 0 0] [3 0 9 ... 7 0 3]\n",
      "0.09836585365853659\n",
      "Iteration:  40\n",
      "[0 0 0 ... 0 0 0] [3 0 9 ... 7 0 3]\n",
      "0.09836585365853659\n",
      "Iteration:  50\n",
      "[0 0 0 ... 0 0 0] [3 0 9 ... 7 0 3]\n",
      "0.09836585365853659\n",
      "Iteration:  60\n",
      "[0 0 0 ... 0 0 0] [3 0 9 ... 7 0 3]\n",
      "0.09836585365853659\n",
      "Iteration:  70\n",
      "[0 0 0 ... 0 0 0] [3 0 9 ... 7 0 3]\n",
      "0.09836585365853659\n",
      "Iteration:  80\n",
      "[0 0 0 ... 0 0 0] [3 0 9 ... 7 0 3]\n",
      "0.09836585365853659\n",
      "Iteration:  90\n",
      "[0 0 0 ... 0 0 0] [3 0 9 ... 7 0 3]\n",
      "0.09836585365853659\n",
      "Iteration:  100\n",
      "[0 0 0 ... 0 0 0] [3 0 9 ... 7 0 3]\n",
      "0.09836585365853659\n",
      "Iteration:  110\n",
      "[0 0 0 ... 0 0 0] [3 0 9 ... 7 0 3]\n",
      "0.09836585365853659\n",
      "Iteration:  120\n",
      "[0 0 0 ... 0 0 0] [3 0 9 ... 7 0 3]\n",
      "0.09836585365853659\n",
      "Iteration:  130\n",
      "[0 0 0 ... 0 0 0] [3 0 9 ... 7 0 3]\n",
      "0.09836585365853659\n",
      "Iteration:  140\n",
      "[0 0 0 ... 0 0 0] [3 0 9 ... 7 0 3]\n",
      "0.09836585365853659\n",
      "Iteration:  150\n",
      "[0 0 0 ... 0 0 0] [3 0 9 ... 7 0 3]\n",
      "0.09836585365853659\n",
      "Iteration:  160\n",
      "[0 0 0 ... 0 0 0] [3 0 9 ... 7 0 3]\n",
      "0.09836585365853659\n",
      "Iteration:  170\n",
      "[0 0 0 ... 0 0 0] [3 0 9 ... 7 0 3]\n",
      "0.09836585365853659\n",
      "Iteration:  180\n",
      "[0 0 0 ... 0 0 0] [3 0 9 ... 7 0 3]\n",
      "0.09836585365853659\n",
      "Iteration:  190\n",
      "[0 0 0 ... 0 0 0] [3 0 9 ... 7 0 3]\n",
      "0.09836585365853659\n",
      "Iteration:  200\n",
      "[0 0 0 ... 0 0 0] [3 0 9 ... 7 0 3]\n",
      "0.09836585365853659\n",
      "Iteration:  210\n",
      "[0 0 0 ... 0 0 0] [3 0 9 ... 7 0 3]\n",
      "0.09836585365853659\n",
      "Iteration:  220\n",
      "[0 0 0 ... 0 0 0] [3 0 9 ... 7 0 3]\n",
      "0.09836585365853659\n",
      "Iteration:  230\n",
      "[0 0 0 ... 0 0 0] [3 0 9 ... 7 0 3]\n",
      "0.09836585365853659\n",
      "Iteration:  240\n",
      "[0 0 0 ... 0 0 0] [3 0 9 ... 7 0 3]\n",
      "0.09836585365853659\n",
      "Iteration:  250\n",
      "[0 0 0 ... 0 0 0] [3 0 9 ... 7 0 3]\n",
      "0.09836585365853659\n",
      "Iteration:  260\n",
      "[0 0 0 ... 0 0 0] [3 0 9 ... 7 0 3]\n",
      "0.09836585365853659\n",
      "Iteration:  270\n",
      "[0 0 0 ... 0 0 0] [3 0 9 ... 7 0 3]\n",
      "0.09836585365853659\n",
      "Iteration:  280\n",
      "[0 0 0 ... 0 0 0] [3 0 9 ... 7 0 3]\n",
      "0.09836585365853659\n",
      "Iteration:  290\n",
      "[0 0 0 ... 0 0 0] [3 0 9 ... 7 0 3]\n",
      "0.09836585365853659\n",
      "Iteration:  300\n",
      "[0 0 0 ... 0 0 0] [3 0 9 ... 7 0 3]\n",
      "0.09836585365853659\n",
      "Iteration:  310\n",
      "[0 0 0 ... 0 0 0] [3 0 9 ... 7 0 3]\n",
      "0.09836585365853659\n",
      "Iteration:  320\n",
      "[0 0 0 ... 0 0 0] [3 0 9 ... 7 0 3]\n",
      "0.09836585365853659\n",
      "Iteration:  330\n",
      "[0 0 0 ... 0 0 0] [3 0 9 ... 7 0 3]\n",
      "0.09836585365853659\n",
      "Iteration:  340\n",
      "[0 0 0 ... 0 0 0] [3 0 9 ... 7 0 3]\n",
      "0.09836585365853659\n",
      "Iteration:  350\n",
      "[0 0 0 ... 0 0 0] [3 0 9 ... 7 0 3]\n",
      "0.09836585365853659\n",
      "Iteration:  360\n",
      "[0 0 0 ... 0 0 0] [3 0 9 ... 7 0 3]\n",
      "0.09836585365853659\n",
      "Iteration:  370\n",
      "[0 0 0 ... 0 0 0] [3 0 9 ... 7 0 3]\n",
      "0.09836585365853659\n",
      "Iteration:  380\n",
      "[0 0 0 ... 0 0 0] [3 0 9 ... 7 0 3]\n",
      "0.09836585365853659\n",
      "Iteration:  390\n",
      "[0 0 0 ... 0 0 0] [3 0 9 ... 7 0 3]\n",
      "0.09836585365853659\n",
      "Iteration:  400\n",
      "[0 0 0 ... 0 0 0] [3 0 9 ... 7 0 3]\n",
      "0.09836585365853659\n",
      "Iteration:  410\n",
      "[0 0 0 ... 0 0 0] [3 0 9 ... 7 0 3]\n",
      "0.09836585365853659\n",
      "Iteration:  420\n",
      "[0 0 0 ... 0 0 0] [3 0 9 ... 7 0 3]\n",
      "0.09836585365853659\n",
      "Iteration:  430\n",
      "[0 0 0 ... 0 0 0] [3 0 9 ... 7 0 3]\n",
      "0.09836585365853659\n",
      "Iteration:  440\n",
      "[0 0 0 ... 0 0 0] [3 0 9 ... 7 0 3]\n",
      "0.09836585365853659\n",
      "Iteration:  450\n",
      "[0 0 0 ... 0 0 0] [3 0 9 ... 7 0 3]\n",
      "0.09836585365853659\n",
      "Iteration:  460\n",
      "[0 0 0 ... 0 0 0] [3 0 9 ... 7 0 3]\n",
      "0.09836585365853659\n",
      "Iteration:  470\n",
      "[0 0 0 ... 0 0 0] [3 0 9 ... 7 0 3]\n",
      "0.09836585365853659\n",
      "Iteration:  480\n",
      "[0 0 0 ... 0 0 0] [3 0 9 ... 7 0 3]\n",
      "0.09836585365853659\n",
      "Iteration:  490\n",
      "[0 0 0 ... 0 0 0] [3 0 9 ... 7 0 3]\n",
      "0.09836585365853659\n"
     ]
    }
   ],
   "source": [
    "W1,b1,W2,b2= gradient_descent(X_train,Y_train,500,0.10)"
   ]
  },
  {
   "cell_type": "code",
   "execution_count": 11,
   "id": "b7806a73",
   "metadata": {
    "execution": {
     "iopub.execute_input": "2023-03-20T21:35:06.736031Z",
     "iopub.status.busy": "2023-03-20T21:35:06.735303Z",
     "iopub.status.idle": "2023-03-20T21:35:06.755807Z",
     "shell.execute_reply": "2023-03-20T21:35:06.754069Z"
    },
    "papermill": {
     "duration": 0.049233,
     "end_time": "2023-03-20T21:35:06.761500",
     "exception": false,
     "start_time": "2023-03-20T21:35:06.712267",
     "status": "completed"
    },
    "tags": []
   },
   "outputs": [],
   "source": [
    "def make_predictions(X, W1, b1, W2, b2):\n",
    "    _, _, _, A2 = forward_prop(W1, b1, W2, b2, X)\n",
    "    predictions = get_predictions(A2)\n",
    "    return predictions\n",
    "\n",
    "def test_prediction(index, W1, b1, W2, b2):\n",
    "    current_image = X_train[:, index, None]\n",
    "    prediction = make_predictions(X_train[:, index, None], W1, b1, W2, b2)\n",
    "    label = Y_train[index]\n",
    "    print(\"Prediction: \", prediction)\n",
    "    print(\"Label: \", label)\n",
    "    \n",
    "    current_image = current_image.reshape((28, 28)) * 255\n",
    "    plt.gray()\n",
    "    plt.imshow(current_image, interpolation='nearest')\n",
    "    plt.show()"
   ]
  },
  {
   "cell_type": "code",
   "execution_count": 12,
   "id": "f72d5524",
   "metadata": {
    "execution": {
     "iopub.execute_input": "2023-03-20T21:35:06.805830Z",
     "iopub.status.busy": "2023-03-20T21:35:06.805411Z",
     "iopub.status.idle": "2023-03-20T21:35:07.386859Z",
     "shell.execute_reply": "2023-03-20T21:35:07.385390Z"
    },
    "papermill": {
     "duration": 0.607209,
     "end_time": "2023-03-20T21:35:07.390304",
     "exception": false,
     "start_time": "2023-03-20T21:35:06.783095",
     "status": "completed"
    },
    "tags": []
   },
   "outputs": [
    {
     "name": "stdout",
     "output_type": "stream",
     "text": [
      "Prediction:  [0]\n",
      "Label:  3\n"
     ]
    },
    {
     "data": {
      "image/png": "[encoded data removed]",
      "text/plain": [
       "<Figure size 640x480 with 1 Axes>"
      ]
     },
     "metadata": {},
     "output_type": "display_data"
    },
    {
     "name": "stdout",
     "output_type": "stream",
     "text": [
      "Prediction:  [0]\n",
      "Label:  0\n"
     ]
    },
    {
     "data": {
      "image/png": "[encoded data removed]",
      "text/plain": [
       "<Figure size 640x480 with 1 Axes>"
      ]
     },
     "metadata": {},
     "output_type": "display_data"
    },
    {
     "name": "stdout",
     "output_type": "stream",
     "text": [
      "Prediction:  [0]\n",
      "Label:  9\n"
     ]
    },
    {
     "data": {
      "image/png": "[encoded data removed]",
      "text/plain": [
       "<Figure size 640x480 with 1 Axes>"
      ]
     },
     "metadata": {},
     "output_type": "display_data"
    },
    {
     "name": "stdout",
     "output_type": "stream",
     "text": [
      "Prediction:  [0]\n",
      "Label:  3\n"
     ]
    },
    {
     "data": {
      "image/png": "[encoded data removed]",
      "text/plain": [
       "<Figure size 640x480 with 1 Axes>"
      ]
     },
     "metadata": {},
     "output_type": "display_data"
    }
   ],
   "source": [
    "test_prediction(0, W1, b1, W2, b2)\n",
    "test_prediction(1, W1, b1, W2, b2)\n",
    "test_prediction(2, W1, b1, W2, b2)\n",
    "test_prediction(3, W1, b1, W2, b2)"
   ]
  },
  {
   "cell_type": "code",
   "execution_count": 13,
   "id": "dddb7180",
   "metadata": {
    "execution": {
     "iopub.execute_input": "2023-03-20T21:35:07.411770Z",
     "iopub.status.busy": "2023-03-20T21:35:07.410924Z",
     "iopub.status.idle": "2023-03-20T21:35:07.438355Z",
     "shell.execute_reply": "2023-03-20T21:35:07.436973Z"
    },
    "papermill": {
     "duration": 0.047394,
     "end_time": "2023-03-20T21:35:07.447260",
     "exception": false,
     "start_time": "2023-03-20T21:35:07.399866",
     "status": "completed"
    },
    "tags": []
   },
   "outputs": [
    {
     "name": "stdout",
     "output_type": "stream",
     "text": [
      "[0 0 0 0 0 0 0 0 0 0 0 0 0 0 0 0 0 0 0 0 0 0 0 0 0 0 0 0 0 0 0 0 0 0 0 0 0\n",
      " 0 0 0 0 0 0 0 0 0 0 0 0 0 0 0 0 0 0 0 0 0 0 0 0 0 0 0 0 0 0 0 0 0 0 0 0 0\n",
      " 0 0 0 0 0 0 0 0 0 0 0 0 0 0 0 0 0 0 0 0 0 0 0 0 0 0 0 0 0 0 0 0 0 0 0 0 0\n",
      " 0 0 0 0 0 0 0 0 0 0 0 0 0 0 0 0 0 0 0 0 0 0 0 0 0 0 0 0 0 0 0 0 0 0 0 0 0\n",
      " 0 0 0 0 0 0 0 0 0 0 0 0 0 0 0 0 0 0 0 0 0 0 0 0 0 0 0 0 0 0 0 0 0 0 0 0 0\n",
      " 0 0 0 0 0 0 0 0 0 0 0 0 0 0 0 0 0 0 0 0 0 0 0 0 0 0 0 0 0 0 0 0 0 0 0 0 0\n",
      " 0 0 0 0 0 0 0 0 0 0 0 0 0 0 0 0 0 0 0 0 0 0 0 0 0 0 0 0 0 0 0 0 0 0 0 0 0\n",
      " 0 0 0 0 0 0 0 0 0 0 0 0 0 0 0 0 0 0 0 0 0 0 0 0 0 0 0 0 0 0 0 0 0 0 0 0 0\n",
      " 0 0 0 0 0 0 0 0 0 0 0 0 0 0 0 0 0 0 0 0 0 0 0 0 0 0 0 0 0 0 0 0 0 0 0 0 0\n",
      " 0 0 0 0 0 0 0 0 0 0 0 0 0 0 0 0 0 0 0 0 0 0 0 0 0 0 0 0 0 0 0 0 0 0 0 0 0\n",
      " 0 0 0 0 0 0 0 0 0 0 0 0 0 0 0 0 0 0 0 0 0 0 0 0 0 0 0 0 0 0 0 0 0 0 0 0 0\n",
      " 0 0 0 0 0 0 0 0 0 0 0 0 0 0 0 0 0 0 0 0 0 0 0 0 0 0 0 0 0 0 0 0 0 0 0 0 0\n",
      " 0 0 0 0 0 0 0 0 0 0 0 0 0 0 0 0 0 0 0 0 0 0 0 0 0 0 0 0 0 0 0 0 0 0 0 0 0\n",
      " 0 0 0 0 0 0 0 0 0 0 0 0 0 0 0 0 0 0 0 0 0 0 0 0 0 0 0 0 0 0 0 0 0 0 0 0 0\n",
      " 0 0 0 0 0 0 0 0 0 0 0 0 0 0 0 0 0 0 0 0 0 0 0 0 0 0 0 0 0 0 0 0 0 0 0 0 0\n",
      " 0 0 0 0 0 0 0 0 0 0 0 0 0 0 0 0 0 0 0 0 0 0 0 0 0 0 0 0 0 0 0 0 0 0 0 0 0\n",
      " 0 0 0 0 0 0 0 0 0 0 0 0 0 0 0 0 0 0 0 0 0 0 0 0 0 0 0 0 0 0 0 0 0 0 0 0 0\n",
      " 0 0 0 0 0 0 0 0 0 0 0 0 0 0 0 0 0 0 0 0 0 0 0 0 0 0 0 0 0 0 0 0 0 0 0 0 0\n",
      " 0 0 0 0 0 0 0 0 0 0 0 0 0 0 0 0 0 0 0 0 0 0 0 0 0 0 0 0 0 0 0 0 0 0 0 0 0\n",
      " 0 0 0 0 0 0 0 0 0 0 0 0 0 0 0 0 0 0 0 0 0 0 0 0 0 0 0 0 0 0 0 0 0 0 0 0 0\n",
      " 0 0 0 0 0 0 0 0 0 0 0 0 0 0 0 0 0 0 0 0 0 0 0 0 0 0 0 0 0 0 0 0 0 0 0 0 0\n",
      " 0 0 0 0 0 0 0 0 0 0 0 0 0 0 0 0 0 0 0 0 0 0 0 0 0 0 0 0 0 0 0 0 0 0 0 0 0\n",
      " 0 0 0 0 0 0 0 0 0 0 0 0 0 0 0 0 0 0 0 0 0 0 0 0 0 0 0 0 0 0 0 0 0 0 0 0 0\n",
      " 0 0 0 0 0 0 0 0 0 0 0 0 0 0 0 0 0 0 0 0 0 0 0 0 0 0 0 0 0 0 0 0 0 0 0 0 0\n",
      " 0 0 0 0 0 0 0 0 0 0 0 0 0 0 0 0 0 0 0 0 0 0 0 0 0 0 0 0 0 0 0 0 0 0 0 0 0\n",
      " 0 0 0 0 0 0 0 0 0 0 0 0 0 0 0 0 0 0 0 0 0 0 0 0 0 0 0 0 0 0 0 0 0 0 0 0 0\n",
      " 0 0 0 0 0 0 0 0 0 0 0 0 0 0 0 0 0 0 0 0 0 0 0 0 0 0 0 0 0 0 0 0 0 0 0 0 0\n",
      " 0] [7 3 1 4 9 5 2 8 0 0 4 1 3 6 9 7 7 4 8 8 6 9 6 9 3 5 2 6 0 0 7 6 4 2 2 1 6\n",
      " 4 7 2 7 7 6 6 6 6 4 7 0 4 7 6 1 4 5 9 6 0 2 1 2 3 4 3 0 0 9 5 5 7 7 4 9 5\n",
      " 8 1 9 0 7 1 5 7 1 7 1 9 0 8 8 0 8 2 8 0 5 3 8 5 2 4 6 7 2 3 8 6 2 6 6 5 6\n",
      " 7 0 8 0 1 6 0 8 0 2 9 6 7 9 3 6 2 5 6 5 2 7 4 7 4 8 7 1 9 2 8 0 9 6 6 5 5\n",
      " 0 7 9 7 0 0 0 2 8 9 0 3 6 7 6 2 5 1 1 8 1 5 7 9 5 9 8 1 3 7 5 1 4 5 1 3 4\n",
      " 9 4 0 6 2 6 0 4 9 3 5 3 4 3 3 9 3 3 1 4 0 3 3 3 0 0 1 7 5 2 0 2 6 5 0 3 7\n",
      " 4 4 5 9 6 0 4 5 2 3 2 3 5 1 6 3 5 4 0 4 1 6 1 9 3 6 3 6 9 5 1 4 3 3 9 1 2\n",
      " 7 0 4 8 8 0 1 6 6 9 6 4 9 3 9 2 9 3 7 0 4 2 9 5 8 6 8 3 2 6 3 9 1 4 6 7 2\n",
      " 0 2 9 6 8 5 4 2 3 9 7 1 1 1 4 1 9 6 4 9 7 9 9 3 8 8 2 1 6 9 7 2 2 3 9 6 2\n",
      " 8 9 3 9 5 1 4 7 2 4 9 8 3 6 8 1 7 7 4 7 4 0 2 0 9 0 3 1 6 5 5 7 7 2 2 7 1\n",
      " 9 8 9 0 7 2 9 2 6 4 1 9 8 1 6 1 3 4 4 0 3 7 1 2 1 7 6 7 0 1 9 9 9 1 5 9 4\n",
      " 2 0 9 5 1 9 5 7 7 0 6 7 7 1 3 6 7 3 3 8 8 0 2 2 4 5 0 7 0 0 8 8 1 7 5 2 7\n",
      " 3 0 1 7 5 1 5 0 9 1 4 2 3 4 1 1 2 7 2 8 8 4 7 3 8 4 1 8 3 4 1 5 9 2 6 2 8\n",
      " 8 2 8 8 9 2 0 4 9 1 4 6 1 4 0 4 0 5 6 2 6 6 2 0 7 7 5 7 8 5 7 1 1 6 4 9 7\n",
      " 4 5 1 6 0 6 9 7 5 7 3 5 9 6 1 3 0 1 8 0 1 7 8 0 8 4 7 8 4 5 7 1 7 5 0 9 2\n",
      " 1 0 7 2 1 1 8 3 2 3 7 7 9 4 5 4 4 1 9 7 1 6 2 8 9 1 9 9 5 0 9 3 1 5 8 5 8\n",
      " 0 9 7 1 8 7 4 1 8 2 5 9 3 1 6 3 7 5 8 1 3 5 0 9 0 4 2 1 8 8 0 5 1 5 0 2 6\n",
      " 8 2 5 8 6 7 2 4 3 1 9 8 6 4 4 7 9 6 6 8 0 0 5 6 3 8 5 5 7 4 8 3 9 3 2 4 3\n",
      " 6 2 9 1 9 0 1 5 0 2 3 5 4 9 9 4 8 7 5 6 3 6 5 1 0 8 5 6 1 8 6 4 9 0 1 1 3\n",
      " 7 4 7 8 8 2 1 4 9 2 3 2 1 1 1 1 9 7 0 6 8 0 4 2 6 4 1 2 6 6 6 1 7 6 4 5 7\n",
      " 7 7 9 5 6 0 2 2 1 1 5 6 2 0 8 7 7 5 3 6 4 0 3 3 0 8 9 0 7 2 3 4 5 7 9 5 8\n",
      " 2 3 9 1 4 0 3 4 3 4 0 1 7 3 6 0 5 1 3 2 0 7 6 4 4 6 3 0 0 6 2 7 2 9 6 9 6\n",
      " 7 4 1 4 2 3 3 5 9 1 4 1 7 6 3 4 5 5 6 8 4 6 4 5 4 2 4 3 1 1 4 7 3 5 0 7 5\n",
      " 5 5 8 5 2 3 7 8 1 6 7 3 9 7 5 5 9 2 6 2 3 9 9 1 5 2 1 2 4 9 9 6 7 4 4 8 4\n",
      " 7 2 1 1 2 6 4 1 9 0 1 2 5 0 8 5 2 9 6 4 0 3 3 7 0 2 4 7 7 4 8 8 2 3 7 3 3\n",
      " 6 5 5 7 2 3 2 9 6 7 6 8 3 6 2 0 9 5 7 3 9 2 1 3 5 3 4 1 7 1 7 0 7 4 9 5 5\n",
      " 1 9 0 6 0 4 5 6 2 9 7 7 5 0 4 0 9 4 8 5 2 1 3 8 9 2 4 4 0 8 9 0 2 9 0 0 8\n",
      " 6]\n"
     ]
    },
    {
     "data": {
      "text/plain": [
       "0.099"
      ]
     },
     "execution_count": 13,
     "metadata": {},
     "output_type": "execute_result"
    }
   ],
   "source": [
    "dev_predictions = make_predictions(X_dev, W1, b1, W2, b2)\n",
    "get_accuracy(dev_predictions, Y_dev)"
   ]
  }
 ],
 "metadata": {
  "kernelspec": {
   "display_name": "Python 3",
   "language": "python",
   "name": "python3"
  },
  "language_info": {
   "codemirror_mode": {
    "name": "ipython",
    "version": 3
   },
   "file_extension": ".py",
   "mimetype": "text/x-python",
   "name": "python",
   "nbconvert_exporter": "python",
   "pygments_lexer": "ipython3",
   "version": "3.7.12"
  },
  "papermill": {
   "default_parameters": {},
   "duration": 94.527951,
   "end_time": "2023-03-20T21:35:08.206174",
   "environment_variables": {},
   "exception": null,
   "input_path": "__notebook__.ipynb",
   "output_path": "__notebook__.ipynb",
   "parameters": {},
   "start_time": "2023-03-20T21:33:33.678223",
   "version": "2.4.0"
  }
 },
 "nbformat": 4,
 "nbformat_minor": 5
}
