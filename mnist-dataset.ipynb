{
 "cells": [
  {
   "cell_type": "code",
   "execution_count": 1,
   "id": "992597b3",
   "metadata": {
    "_cell_guid": "b1076dfc-b9ad-4769-8c92-a6c4dae69d19",
    "_uuid": "8f2839f25d086af736a60e9eeb907d3b93b6e0e5",
    "execution": {
     "iopub.execute_input": "2023-03-21T04:40:53.381146Z",
     "iopub.status.busy": "2023-03-21T04:40:53.380068Z",
     "iopub.status.idle": "2023-03-21T04:40:53.391036Z",
     "shell.execute_reply": "2023-03-21T04:40:53.389988Z"
    },
    "papermill": {
     "duration": 0.023282,
     "end_time": "2023-03-21T04:40:53.394117",
     "exception": false,
     "start_time": "2023-03-21T04:40:53.370835",
     "status": "completed"
    },
    "tags": []
   },
   "outputs": [],
   "source": [
    "\n",
    "import numpy as np # linear algebra\n",
    "import pandas as pd # data processing, CSV file I/O (e.g. pd.read_csv)\n",
    "from matplotlib import pyplot as plt\n",
    "\n"
   ]
  },
  {
   "cell_type": "code",
   "execution_count": 2,
   "id": "950c7478",
   "metadata": {
    "execution": {
     "iopub.execute_input": "2023-03-21T04:40:53.407165Z",
     "iopub.status.busy": "2023-03-21T04:40:53.406634Z",
     "iopub.status.idle": "2023-03-21T04:40:57.735023Z",
     "shell.execute_reply": "2023-03-21T04:40:57.733800Z"
    },
    "papermill": {
     "duration": 4.338915,
     "end_time": "2023-03-21T04:40:57.738479",
     "exception": false,
     "start_time": "2023-03-21T04:40:53.399564",
     "status": "completed"
    },
    "tags": []
   },
   "outputs": [],
   "source": [
    "#Adding the dataset\n",
    "\n",
    "data= pd.read_csv('/kaggle/input/digit-recognizer/train.csv')"
   ]
  },
  {
   "cell_type": "code",
   "execution_count": 3,
   "id": "46e290fa",
   "metadata": {
    "execution": {
     "iopub.execute_input": "2023-03-21T04:40:57.754756Z",
     "iopub.status.busy": "2023-03-21T04:40:57.754199Z",
     "iopub.status.idle": "2023-03-21T04:40:57.795162Z",
     "shell.execute_reply": "2023-03-21T04:40:57.793672Z"
    },
    "papermill": {
     "duration": 0.053065,
     "end_time": "2023-03-21T04:40:57.798993",
     "exception": false,
     "start_time": "2023-03-21T04:40:57.745928",
     "status": "completed"
    },
    "tags": []
   },
   "outputs": [
    {
     "data": {
      "text/html": [
       "<div>\n",
       "<style scoped>\n",
       "    .dataframe tbody tr th:only-of-type {\n",
       "        vertical-align: middle;\n",
       "    }\n",
       "\n",
       "    .dataframe tbody tr th {\n",
       "        vertical-align: top;\n",
       "    }\n",
       "\n",
       "    .dataframe thead th {\n",
       "        text-align: right;\n",
       "    }\n",
       "</style>\n",
       "<table border=\"1\" class=\"dataframe\">\n",
       "  <thead>\n",
       "    <tr style=\"text-align: right;\">\n",
       "      <th></th>\n",
       "      <th>label</th>\n",
       "      <th>pixel0</th>\n",
       "      <th>pixel1</th>\n",
       "      <th>pixel2</th>\n",
       "      <th>pixel3</th>\n",
       "      <th>pixel4</th>\n",
       "      <th>pixel5</th>\n",
       "      <th>pixel6</th>\n",
       "      <th>pixel7</th>\n",
       "      <th>pixel8</th>\n",
       "      <th>...</th>\n",
       "      <th>pixel774</th>\n",
       "      <th>pixel775</th>\n",
       "      <th>pixel776</th>\n",
       "      <th>pixel777</th>\n",
       "      <th>pixel778</th>\n",
       "      <th>pixel779</th>\n",
       "      <th>pixel780</th>\n",
       "      <th>pixel781</th>\n",
       "      <th>pixel782</th>\n",
       "      <th>pixel783</th>\n",
       "    </tr>\n",
       "  </thead>\n",
       "  <tbody>\n",
       "    <tr>\n",
       "      <th>0</th>\n",
       "      <td>1</td>\n",
       "      <td>0</td>\n",
       "      <td>0</td>\n",
       "      <td>0</td>\n",
       "      <td>0</td>\n",
       "      <td>0</td>\n",
       "      <td>0</td>\n",
       "      <td>0</td>\n",
       "      <td>0</td>\n",
       "      <td>0</td>\n",
       "      <td>...</td>\n",
       "      <td>0</td>\n",
       "      <td>0</td>\n",
       "      <td>0</td>\n",
       "      <td>0</td>\n",
       "      <td>0</td>\n",
       "      <td>0</td>\n",
       "      <td>0</td>\n",
       "      <td>0</td>\n",
       "      <td>0</td>\n",
       "      <td>0</td>\n",
       "    </tr>\n",
       "    <tr>\n",
       "      <th>1</th>\n",
       "      <td>0</td>\n",
       "      <td>0</td>\n",
       "      <td>0</td>\n",
       "      <td>0</td>\n",
       "      <td>0</td>\n",
       "      <td>0</td>\n",
       "      <td>0</td>\n",
       "      <td>0</td>\n",
       "      <td>0</td>\n",
       "      <td>0</td>\n",
       "      <td>...</td>\n",
       "      <td>0</td>\n",
       "      <td>0</td>\n",
       "      <td>0</td>\n",
       "      <td>0</td>\n",
       "      <td>0</td>\n",
       "      <td>0</td>\n",
       "      <td>0</td>\n",
       "      <td>0</td>\n",
       "      <td>0</td>\n",
       "      <td>0</td>\n",
       "    </tr>\n",
       "    <tr>\n",
       "      <th>2</th>\n",
       "      <td>1</td>\n",
       "      <td>0</td>\n",
       "      <td>0</td>\n",
       "      <td>0</td>\n",
       "      <td>0</td>\n",
       "      <td>0</td>\n",
       "      <td>0</td>\n",
       "      <td>0</td>\n",
       "      <td>0</td>\n",
       "      <td>0</td>\n",
       "      <td>...</td>\n",
       "      <td>0</td>\n",
       "      <td>0</td>\n",
       "      <td>0</td>\n",
       "      <td>0</td>\n",
       "      <td>0</td>\n",
       "      <td>0</td>\n",
       "      <td>0</td>\n",
       "      <td>0</td>\n",
       "      <td>0</td>\n",
       "      <td>0</td>\n",
       "    </tr>\n",
       "    <tr>\n",
       "      <th>3</th>\n",
       "      <td>4</td>\n",
       "      <td>0</td>\n",
       "      <td>0</td>\n",
       "      <td>0</td>\n",
       "      <td>0</td>\n",
       "      <td>0</td>\n",
       "      <td>0</td>\n",
       "      <td>0</td>\n",
       "      <td>0</td>\n",
       "      <td>0</td>\n",
       "      <td>...</td>\n",
       "      <td>0</td>\n",
       "      <td>0</td>\n",
       "      <td>0</td>\n",
       "      <td>0</td>\n",
       "      <td>0</td>\n",
       "      <td>0</td>\n",
       "      <td>0</td>\n",
       "      <td>0</td>\n",
       "      <td>0</td>\n",
       "      <td>0</td>\n",
       "    </tr>\n",
       "    <tr>\n",
       "      <th>4</th>\n",
       "      <td>0</td>\n",
       "      <td>0</td>\n",
       "      <td>0</td>\n",
       "      <td>0</td>\n",
       "      <td>0</td>\n",
       "      <td>0</td>\n",
       "      <td>0</td>\n",
       "      <td>0</td>\n",
       "      <td>0</td>\n",
       "      <td>0</td>\n",
       "      <td>...</td>\n",
       "      <td>0</td>\n",
       "      <td>0</td>\n",
       "      <td>0</td>\n",
       "      <td>0</td>\n",
       "      <td>0</td>\n",
       "      <td>0</td>\n",
       "      <td>0</td>\n",
       "      <td>0</td>\n",
       "      <td>0</td>\n",
       "      <td>0</td>\n",
       "    </tr>\n",
       "  </tbody>\n",
       "</table>\n",
       "<p>5 rows × 785 columns</p>\n",
       "</div>"
      ],
      "text/plain": [
       "   label  pixel0  pixel1  pixel2  pixel3  pixel4  pixel5  pixel6  pixel7  \\\n",
       "0      1       0       0       0       0       0       0       0       0   \n",
       "1      0       0       0       0       0       0       0       0       0   \n",
       "2      1       0       0       0       0       0       0       0       0   \n",
       "3      4       0       0       0       0       0       0       0       0   \n",
       "4      0       0       0       0       0       0       0       0       0   \n",
       "\n",
       "   pixel8  ...  pixel774  pixel775  pixel776  pixel777  pixel778  pixel779  \\\n",
       "0       0  ...         0         0         0         0         0         0   \n",
       "1       0  ...         0         0         0         0         0         0   \n",
       "2       0  ...         0         0         0         0         0         0   \n",
       "3       0  ...         0         0         0         0         0         0   \n",
       "4       0  ...         0         0         0         0         0         0   \n",
       "\n",
       "   pixel780  pixel781  pixel782  pixel783  \n",
       "0         0         0         0         0  \n",
       "1         0         0         0         0  \n",
       "2         0         0         0         0  \n",
       "3         0         0         0         0  \n",
       "4         0         0         0         0  \n",
       "\n",
       "[5 rows x 785 columns]"
      ]
     },
     "execution_count": 3,
     "metadata": {},
     "output_type": "execute_result"
    }
   ],
   "source": [
    "#The head () function is used to get the first n rows.\n",
    "#It is helpful for quickly testing if your object has the right type of data in it.\n",
    "#For negative values of n,the head () function returns all rows except the last n rows, equivalent to df [:-n].\n",
    "\n",
    "data.head()"
   ]
  },
  {
   "cell_type": "markdown",
   "id": "d58e90e0",
   "metadata": {
    "papermill": {
     "duration": 0.005485,
     "end_time": "2023-03-21T04:40:57.810382",
     "exception": false,
     "start_time": "2023-03-21T04:40:57.804897",
     "status": "completed"
    },
    "tags": []
   },
   "source": []
  },
  {
   "cell_type": "markdown",
   "id": "9174a2b4",
   "metadata": {
    "papermill": {
     "duration": 0.005283,
     "end_time": "2023-03-21T04:40:57.821383",
     "exception": false,
     "start_time": "2023-03-21T04:40:57.816100",
     "status": "completed"
    },
    "tags": []
   },
   "source": [
    "# > **Data and Dataset**"
   ]
  },
  {
   "cell_type": "markdown",
   "id": "aad287e7",
   "metadata": {
    "papermill": {
     "duration": 0.005479,
     "end_time": "2023-03-21T04:40:57.832507",
     "exception": false,
     "start_time": "2023-03-21T04:40:57.827028",
     "status": "completed"
    },
    "tags": []
   },
   "source": [
    "Now split data into dev and training set\n",
    "Risk-*Overfitting*\n",
    "It may happen that your model maybe exactly figuring out the exact pridiction for your *\"*training data\"* *\n",
    "but not generalize data where you actually want to\n",
    "that's *Dev/Cross-Validation Data *where you don't want to generalize-test performance data\n"
   ]
  },
  {
   "cell_type": "code",
   "execution_count": 4,
   "id": "64bbcef6",
   "metadata": {
    "execution": {
     "iopub.execute_input": "2023-03-21T04:40:57.846389Z",
     "iopub.status.busy": "2023-03-21T04:40:57.845845Z",
     "iopub.status.idle": "2023-03-21T04:40:58.974147Z",
     "shell.execute_reply": "2023-03-21T04:40:58.972338Z"
    },
    "papermill": {
     "duration": 1.139763,
     "end_time": "2023-03-21T04:40:58.978119",
     "exception": false,
     "start_time": "2023-03-21T04:40:57.838356",
     "status": "completed"
    },
    "tags": []
   },
   "outputs": [],
   "source": [
    "#Now split data into dev and training set\n",
    "data=np.array(data)\n",
    "m,n = data.shape\n",
    "np.random.shuffle(data)\n",
    "\n",
    "\n",
    "#T for transpose so that each column is eg rather than each row for convinence\n",
    "data_dev=data[0:1000].T\n",
    "#assigns the first column of the data_dev wiht the target variables/dependent variables of dataset\n",
    "Y_dev=data_dev[0]\n",
    "#assigning values to each target variable\n",
    "X_dev=data_dev[1:n]\n",
    "#X_dev now contains the input variables (or independent variables) for the first 1000 rows of the original data.\n",
    "#normalization of pixeles \n",
    "X_dev=X_dev/255.\n",
    "\n",
    "data_train= data[1000:m].T\n",
    "Y_train=data_train[0]\n",
    "X_train=data_train[1:n]\n",
    "X_train=X_train/255.\n",
    "\n",
    "#assigning the number of columns( which should be equal to m-1000) to m_train\n",
    "#The first dimension (the number of rows, which should be equal to n-1) is ignored by using the _ symbol, \n",
    "_,m_train=X_train.shape\n"
   ]
  },
  {
   "cell_type": "markdown",
   "id": "43b6def7",
   "metadata": {
    "papermill": {
     "duration": 0.0058,
     "end_time": "2023-03-21T04:40:58.990908",
     "exception": false,
     "start_time": "2023-03-21T04:40:58.985108",
     "status": "completed"
    },
    "tags": []
   },
   "source": [
    "\n",
    "# **Why / by 255?**\n",
    "* -It is a common normalization step for image data that has pixel values ranging from 0 to 255. \n",
    "* -This will rescale the input variables to have values between 0 and 1, which can make it easier for machine learning algorithms to learn patterns in the data."
   ]
  },
  {
   "cell_type": "markdown",
   "id": "c5c27645",
   "metadata": {
    "papermill": {
     "duration": 0.00617,
     "end_time": "2023-03-21T04:40:59.003044",
     "exception": false,
     "start_time": "2023-03-21T04:40:58.996874",
     "status": "completed"
    },
    "tags": []
   },
   "source": [
    "# > **Starting with Neural Network**"
   ]
  },
  {
   "cell_type": "code",
   "execution_count": 5,
   "id": "cc3b73e2",
   "metadata": {
    "execution": {
     "iopub.execute_input": "2023-03-21T04:40:59.019278Z",
     "iopub.status.busy": "2023-03-21T04:40:59.018675Z",
     "iopub.status.idle": "2023-03-21T04:40:59.027618Z",
     "shell.execute_reply": "2023-03-21T04:40:59.025990Z"
    },
    "papermill": {
     "duration": 0.021265,
     "end_time": "2023-03-21T04:40:59.030637",
     "exception": false,
     "start_time": "2023-03-21T04:40:59.009372",
     "status": "completed"
    },
    "tags": []
   },
   "outputs": [],
   "source": [
    "#Initializing parameters\n",
    "def init_params():\n",
    "    #784 pixels to 10 classes\n",
    "    #10*784 matrix is drawn drawn from a standard normal distribution with a mean of 0 and a standard deviation of 1.\n",
    "    #shifting the range of values from (0,1) to (-0.5,0.5)\n",
    "    W1=np.random.randn(10,784)- 0.5  \n",
    "    #initializes the bias vector b1 for the first layer of the network as a 10 x 1 column vector of random numbers\n",
    "    b1=np.random.randn(10,1)- 0.5\n",
    "    #initializes the weight matrix W2 for the second layer of the network as a 10 x 10 matrix of random numbers\n",
    "    #each neuron in the second layer is connected to all the neurons in the first layer\n",
    "    W2=np.random.randn(10,10)- 0.5\n",
    "    b2=np.random.randn(10,1)- 0.5\n",
    "    return W1,b1,W2,b2\n",
    "    \n",
    "    "
   ]
  },
  {
   "cell_type": "markdown",
   "id": "c4e57c98",
   "metadata": {
    "papermill": {
     "duration": 0.006154,
     "end_time": "2023-03-21T04:40:59.042898",
     "exception": false,
     "start_time": "2023-03-21T04:40:59.036744",
     "status": "completed"
    },
    "tags": []
   },
   "source": [
    "#  Why 0.5 deviation required?\n",
    "This is a common practice in neural network initialization to ensure that the initial weights are not too large or too small, which can lead to poor performance or slow convergence during training."
   ]
  },
  {
   "cell_type": "code",
   "execution_count": 6,
   "id": "6ab1dc4e",
   "metadata": {
    "execution": {
     "iopub.execute_input": "2023-03-21T04:40:59.057706Z",
     "iopub.status.busy": "2023-03-21T04:40:59.057116Z",
     "iopub.status.idle": "2023-03-21T04:40:59.065349Z",
     "shell.execute_reply": "2023-03-21T04:40:59.064072Z"
    },
    "papermill": {
     "duration": 0.018968,
     "end_time": "2023-03-21T04:40:59.067967",
     "exception": false,
     "start_time": "2023-03-21T04:40:59.048999",
     "status": "completed"
    },
    "tags": []
   },
   "outputs": [],
   "source": [
    "    #Forward propagation\n",
    "    def ReLU(Z):   #Rectified Linear Unit\n",
    "        return np.maximum(Z,0)  #returns if >0 return Z else 0\n",
    "    def SoftMax(Z):    #produce a probability distribution over the possible output classes.\n",
    "        A= np.exp(Z)/ np.sum(np.exp(Z))\n",
    "        return A\n",
    "    #np.sum preserves columns and collapses rows to one row and we want sum of each columns\n",
    "    \n",
    "    def forward_prop(W1,b1,W2,b2,X):\n",
    "        Z1=W1.dot(X)+b1\n",
    "        A1=ReLU(Z1)\n",
    "        Z2=W2.dot(A1)+b2\n",
    "        A2=SoftMax(A1)\n",
    "        return Z1,A1,Z2,A2\n",
    "    \n",
    "    \n",
    "    \n",
    "  \n",
    " "
   ]
  },
  {
   "cell_type": "markdown",
   "id": "73b33d19",
   "metadata": {
    "papermill": {
     "duration": 0.006062,
     "end_time": "2023-03-21T04:40:59.080215",
     "exception": false,
     "start_time": "2023-03-21T04:40:59.074153",
     "status": "completed"
    },
    "tags": []
   },
   "source": [
    "The function creates an array of zeros called one_hot_Y with dimensions (Y.size, Y.max()+1). The Y.max()+1 term ensures that there is a column in one_hot_Y for each unique value in Y. For example, if Y contains values ranging from 0 to 2, then one_hot_Y will have 3 columns.\n",
    "\n",
    "The function uses NumPy's arange function to generate an array of integers from 0 to Y.size - 1. This array is used to index into one_hot_Y along the first axis (i.e., the rows).\n",
    "\n",
    "The function uses the original Y array to index into one_hot_Y along the second axis (i.e., the columns) and set the corresponding elements to 1. This step creates the one-hot encoded version of Y.\n",
    "\n",
    "The function returns the one-hot encoded Y array."
   ]
  },
  {
   "cell_type": "code",
   "execution_count": 7,
   "id": "8664068f",
   "metadata": {
    "execution": {
     "iopub.execute_input": "2023-03-21T04:40:59.095027Z",
     "iopub.status.busy": "2023-03-21T04:40:59.093811Z",
     "iopub.status.idle": "2023-03-21T04:40:59.105564Z",
     "shell.execute_reply": "2023-03-21T04:40:59.104173Z"
    },
    "papermill": {
     "duration": 0.022331,
     "end_time": "2023-03-21T04:40:59.108450",
     "exception": false,
     "start_time": "2023-03-21T04:40:59.086119",
     "status": "completed"
    },
    "tags": []
   },
   "outputs": [],
   "source": [
    "#Back propagation\n",
    "#first it creates one new matrix one hot Y with np zeros\n",
    "def one_hot(Y):\n",
    "    one_hot_Y=np.zeros((Y.size,Y.max()+1))\n",
    "    one_hot_Y[np.arange(Y.size),Y]=1  #Y.size=row & Y column\n",
    "    #go to each row and column specified by the label in Y and turn it into 1\n",
    "    one_hot_Y=one_hot_Y.T\n",
    "    #right now each row was eg we wanted columns to be an eg\n",
    "    return one_hot_Y\n",
    "\n",
    "def deriv_ReLU(Z):\n",
    "    return Z>0   #consider the graph\n",
    "\n",
    "def back_prop(Z1,A1,Z2,A2,W1,W2,X,Y):\n",
    "    one_hot_Y=one_hot(Y)\n",
    "    #dZ2=error in second layer\n",
    "    dZ2 = A2 - one_hot_Y\n",
    "    dW2 = 1 / m * dZ2.dot(A1.T)\n",
    "    db2 = 1 / m * np.sum(dZ2)\n",
    "    #computes the error in the first layer\n",
    "    dZ1 = W2.T.dot(dZ2) * deriv_ReLU(Z1)\n",
    "    #It uses this error to compute the gradients of the weight matrix and bias vector for the first layer, dW1 and db1, respectively.\n",
    "    dW1 = 1 / m * dZ1.dot(X.T)\n",
    "    db1 = 1 / m * np.sum(dZ1)\n",
    "    return dW1,db1,dW2,db2\n",
    "\n",
    "def update_params(W1,b1,W2,b2,dW1,db1,dW2,db2,alpha):\n",
    "    W1 = W1 - alpha * dW1\n",
    "    b1 = b1 - alpha * db1\n",
    "    W2 = W2 - alpha * dW2\n",
    "    b2 = b2 - alpha * db2\n",
    "    return W1,b1,W2,b2\n",
    "    \n",
    "    \n",
    "\n",
    "    \n"
   ]
  },
  {
   "cell_type": "code",
   "execution_count": 8,
   "id": "bad7081d",
   "metadata": {
    "execution": {
     "iopub.execute_input": "2023-03-21T04:40:59.124120Z",
     "iopub.status.busy": "2023-03-21T04:40:59.123172Z",
     "iopub.status.idle": "2023-03-21T04:40:59.130430Z",
     "shell.execute_reply": "2023-03-21T04:40:59.128914Z"
    },
    "papermill": {
     "duration": 0.018963,
     "end_time": "2023-03-21T04:40:59.133331",
     "exception": false,
     "start_time": "2023-03-21T04:40:59.114368",
     "status": "completed"
    },
    "tags": []
   },
   "outputs": [],
   "source": [
    "def get_predictions(A2):\n",
    "    return np.argmax(A2, 0)\n",
    "\n",
    "def get_accuracy(predictions, Y):\n",
    "    print(predictions, Y)\n",
    "    return np.sum(predictions == Y) / Y.size"
   ]
  },
  {
   "cell_type": "code",
   "execution_count": 9,
   "id": "afd81b64",
   "metadata": {
    "execution": {
     "iopub.execute_input": "2023-03-21T04:40:59.147892Z",
     "iopub.status.busy": "2023-03-21T04:40:59.146958Z",
     "iopub.status.idle": "2023-03-21T04:40:59.156614Z",
     "shell.execute_reply": "2023-03-21T04:40:59.155007Z"
    },
    "papermill": {
     "duration": 0.020188,
     "end_time": "2023-03-21T04:40:59.159533",
     "exception": false,
     "start_time": "2023-03-21T04:40:59.139345",
     "status": "completed"
    },
    "tags": []
   },
   "outputs": [],
   "source": [
    "def gradient_descent(X,Y,iterations,alpha):\n",
    "    W1,b1,W2,b2=init_params()\n",
    "    for i in range(iterations):\n",
    "        Z1,A1,Z2,A2=forward_prop(W1,b1,W2,b2,X)\n",
    "        dW1,db1,dW2,db2=back_prop(Z1, A1, Z2, A2, W1, W2, X, Y)\n",
    "        W1,b1,W2,b2=update_params(W1,b1,W2,b2,dW1,db1,dW2,db2,alpha)\n",
    "        if(i%10==0):\n",
    "            print(\"Iteration: \", i)\n",
    "            predictions = get_predictions(A2)\n",
    "            print(get_accuracy(predictions, Y))\n",
    "    return W1,b1,W2,b2"
   ]
  },
  {
   "cell_type": "code",
   "execution_count": 10,
   "id": "d64177c7",
   "metadata": {
    "execution": {
     "iopub.execute_input": "2023-03-21T04:40:59.174587Z",
     "iopub.status.busy": "2023-03-21T04:40:59.173414Z",
     "iopub.status.idle": "2023-03-21T04:42:27.839151Z",
     "shell.execute_reply": "2023-03-21T04:42:27.837156Z"
    },
    "papermill": {
     "duration": 88.678737,
     "end_time": "2023-03-21T04:42:27.844294",
     "exception": false,
     "start_time": "2023-03-21T04:40:59.165557",
     "status": "completed"
    },
    "tags": []
   },
   "outputs": [
    {
     "name": "stdout",
     "output_type": "stream",
     "text": [
      "Iteration:  0\n",
      "[0 0 0 ... 0 0 0] [6 4 4 ... 3 6 0]\n",
      "0.09804878048780488\n",
      "Iteration:  10\n",
      "[0 0 0 ... 0 0 0] [6 4 4 ... 3 6 0]\n",
      "0.09804878048780488\n",
      "Iteration:  20\n",
      "[0 0 0 ... 0 0 0] [6 4 4 ... 3 6 0]\n",
      "0.09804878048780488\n",
      "Iteration:  30\n",
      "[0 0 0 ... 0 0 0] [6 4 4 ... 3 6 0]\n",
      "0.09804878048780488\n",
      "Iteration:  40\n",
      "[0 0 0 ... 0 0 0] [6 4 4 ... 3 6 0]\n",
      "0.09804878048780488\n",
      "Iteration:  50\n",
      "[0 0 0 ... 0 0 0] [6 4 4 ... 3 6 0]\n",
      "0.09804878048780488\n",
      "Iteration:  60\n",
      "[0 0 0 ... 0 0 0] [6 4 4 ... 3 6 0]\n",
      "0.09804878048780488\n",
      "Iteration:  70\n",
      "[0 0 0 ... 0 0 0] [6 4 4 ... 3 6 0]\n",
      "0.09804878048780488\n",
      "Iteration:  80\n",
      "[0 0 0 ... 0 0 0] [6 4 4 ... 3 6 0]\n",
      "0.09804878048780488\n",
      "Iteration:  90\n",
      "[0 0 0 ... 0 0 0] [6 4 4 ... 3 6 0]\n",
      "0.09804878048780488\n",
      "Iteration:  100\n",
      "[0 0 0 ... 0 0 0] [6 4 4 ... 3 6 0]\n",
      "0.09804878048780488\n",
      "Iteration:  110\n",
      "[0 0 0 ... 0 0 0] [6 4 4 ... 3 6 0]\n",
      "0.09804878048780488\n",
      "Iteration:  120\n",
      "[0 0 0 ... 0 0 0] [6 4 4 ... 3 6 0]\n",
      "0.09804878048780488\n",
      "Iteration:  130\n",
      "[0 0 0 ... 0 0 0] [6 4 4 ... 3 6 0]\n",
      "0.09804878048780488\n",
      "Iteration:  140\n",
      "[0 0 0 ... 0 0 0] [6 4 4 ... 3 6 0]\n",
      "0.09804878048780488\n",
      "Iteration:  150\n",
      "[0 0 0 ... 0 0 0] [6 4 4 ... 3 6 0]\n",
      "0.09804878048780488\n",
      "Iteration:  160\n",
      "[0 0 0 ... 0 0 0] [6 4 4 ... 3 6 0]\n",
      "0.09804878048780488\n",
      "Iteration:  170\n",
      "[0 0 0 ... 0 0 0] [6 4 4 ... 3 6 0]\n",
      "0.09804878048780488\n",
      "Iteration:  180\n",
      "[0 0 0 ... 0 0 0] [6 4 4 ... 3 6 0]\n",
      "0.09804878048780488\n",
      "Iteration:  190\n",
      "[0 0 0 ... 0 0 0] [6 4 4 ... 3 6 0]\n",
      "0.09804878048780488\n",
      "Iteration:  200\n",
      "[0 0 0 ... 0 0 0] [6 4 4 ... 3 6 0]\n",
      "0.09804878048780488\n",
      "Iteration:  210\n",
      "[0 0 0 ... 0 0 0] [6 4 4 ... 3 6 0]\n",
      "0.09804878048780488\n",
      "Iteration:  220\n",
      "[0 0 0 ... 0 0 0] [6 4 4 ... 3 6 0]\n",
      "0.09804878048780488\n",
      "Iteration:  230\n",
      "[0 0 0 ... 0 0 0] [6 4 4 ... 3 6 0]\n",
      "0.09804878048780488\n",
      "Iteration:  240\n",
      "[0 0 0 ... 0 0 0] [6 4 4 ... 3 6 0]\n",
      "0.09804878048780488\n",
      "Iteration:  250\n",
      "[0 0 0 ... 0 0 0] [6 4 4 ... 3 6 0]\n",
      "0.09804878048780488\n",
      "Iteration:  260\n",
      "[0 0 0 ... 0 0 0] [6 4 4 ... 3 6 0]\n",
      "0.09804878048780488\n",
      "Iteration:  270\n",
      "[0 0 0 ... 0 0 0] [6 4 4 ... 3 6 0]\n",
      "0.09804878048780488\n",
      "Iteration:  280\n",
      "[0 0 0 ... 0 0 0] [6 4 4 ... 3 6 0]\n",
      "0.09804878048780488\n",
      "Iteration:  290\n",
      "[0 0 0 ... 0 0 0] [6 4 4 ... 3 6 0]\n",
      "0.09804878048780488\n",
      "Iteration:  300\n",
      "[0 0 0 ... 0 0 0] [6 4 4 ... 3 6 0]\n",
      "0.09804878048780488\n",
      "Iteration:  310\n",
      "[0 0 0 ... 0 0 0] [6 4 4 ... 3 6 0]\n",
      "0.09804878048780488\n",
      "Iteration:  320\n",
      "[0 0 0 ... 0 0 0] [6 4 4 ... 3 6 0]\n",
      "0.09804878048780488\n",
      "Iteration:  330\n",
      "[0 0 0 ... 0 0 0] [6 4 4 ... 3 6 0]\n",
      "0.09804878048780488\n",
      "Iteration:  340\n",
      "[0 0 0 ... 0 0 0] [6 4 4 ... 3 6 0]\n",
      "0.09804878048780488\n",
      "Iteration:  350\n",
      "[0 0 0 ... 0 0 0] [6 4 4 ... 3 6 0]\n",
      "0.09804878048780488\n",
      "Iteration:  360\n",
      "[0 0 0 ... 0 0 0] [6 4 4 ... 3 6 0]\n",
      "0.09804878048780488\n",
      "Iteration:  370\n",
      "[0 0 0 ... 0 0 0] [6 4 4 ... 3 6 0]\n",
      "0.09804878048780488\n",
      "Iteration:  380\n",
      "[0 0 0 ... 0 0 0] [6 4 4 ... 3 6 0]\n",
      "0.09804878048780488\n",
      "Iteration:  390\n",
      "[0 0 0 ... 0 0 0] [6 4 4 ... 3 6 0]\n",
      "0.09804878048780488\n",
      "Iteration:  400\n",
      "[0 0 0 ... 0 0 0] [6 4 4 ... 3 6 0]\n",
      "0.09804878048780488\n",
      "Iteration:  410\n",
      "[0 0 0 ... 0 0 0] [6 4 4 ... 3 6 0]\n",
      "0.09804878048780488\n",
      "Iteration:  420\n",
      "[0 0 0 ... 0 0 0] [6 4 4 ... 3 6 0]\n",
      "0.09804878048780488\n",
      "Iteration:  430\n",
      "[0 0 0 ... 0 0 0] [6 4 4 ... 3 6 0]\n",
      "0.09804878048780488\n",
      "Iteration:  440\n",
      "[0 0 0 ... 0 0 0] [6 4 4 ... 3 6 0]\n",
      "0.09804878048780488\n",
      "Iteration:  450\n",
      "[0 0 0 ... 0 0 0] [6 4 4 ... 3 6 0]\n",
      "0.09804878048780488\n",
      "Iteration:  460\n",
      "[0 0 0 ... 0 0 0] [6 4 4 ... 3 6 0]\n",
      "0.09804878048780488\n",
      "Iteration:  470\n",
      "[0 0 0 ... 0 0 0] [6 4 4 ... 3 6 0]\n",
      "0.09804878048780488\n",
      "Iteration:  480\n",
      "[0 0 0 ... 0 0 0] [6 4 4 ... 3 6 0]\n",
      "0.09804878048780488\n",
      "Iteration:  490\n",
      "[0 0 0 ... 0 0 0] [6 4 4 ... 3 6 0]\n",
      "0.09804878048780488\n"
     ]
    }
   ],
   "source": [
    "W1,b1,W2,b2= gradient_descent(X_train,Y_train,500,0.10)"
   ]
  },
  {
   "cell_type": "code",
   "execution_count": 11,
   "id": "dfa03ef0",
   "metadata": {
    "execution": {
     "iopub.execute_input": "2023-03-21T04:42:27.892786Z",
     "iopub.status.busy": "2023-03-21T04:42:27.891936Z",
     "iopub.status.idle": "2023-03-21T04:42:27.908055Z",
     "shell.execute_reply": "2023-03-21T04:42:27.906315Z"
    },
    "papermill": {
     "duration": 0.046155,
     "end_time": "2023-03-21T04:42:27.913148",
     "exception": false,
     "start_time": "2023-03-21T04:42:27.866993",
     "status": "completed"
    },
    "tags": []
   },
   "outputs": [],
   "source": [
    "def make_predictions(X, W1, b1, W2, b2):\n",
    "    _, _, _, A2 = forward_prop(W1, b1, W2, b2, X)\n",
    "    predictions = get_predictions(A2)\n",
    "    return predictions\n",
    "\n",
    "def test_prediction(index, W1, b1, W2, b2):\n",
    "    current_image = X_train[:, index, None]\n",
    "    prediction = make_predictions(X_train[:, index, None], W1, b1, W2, b2)\n",
    "    label = Y_train[index]\n",
    "    print(\"Prediction: \", prediction)\n",
    "    print(\"Label: \", label)\n",
    "    \n",
    "    current_image = current_image.reshape((28, 28)) * 255\n",
    "    plt.gray()\n",
    "    plt.imshow(current_image, interpolation='nearest')\n",
    "    plt.show()"
   ]
  },
  {
   "cell_type": "code",
   "execution_count": 12,
   "id": "10c48e44",
   "metadata": {
    "execution": {
     "iopub.execute_input": "2023-03-21T04:42:27.960609Z",
     "iopub.status.busy": "2023-03-21T04:42:27.959286Z",
     "iopub.status.idle": "2023-03-21T04:42:28.878654Z",
     "shell.execute_reply": "2023-03-21T04:42:28.877339Z"
    },
    "papermill": {
     "duration": 0.945675,
     "end_time": "2023-03-21T04:42:28.881540",
     "exception": false,
     "start_time": "2023-03-21T04:42:27.935865",
     "status": "completed"
    },
    "tags": []
   },
   "outputs": [
    {
     "name": "stdout",
     "output_type": "stream",
     "text": [
      "Prediction:  [0]\n",
      "Label:  6\n"
     ]
    },
    {
     "data": {
      "image/png": "[encoded data removed]",
      "text/plain": [
       "<Figure size 640x480 with 1 Axes>"
      ]
     },
     "metadata": {},
     "output_type": "display_data"
    },
    {
     "name": "stdout",
     "output_type": "stream",
     "text": [
      "Prediction:  [0]\n",
      "Label:  4\n"
     ]
    },
    {
     "data": {
      "image/png": "[encoded data removed]",
      "text/plain": [
       "<Figure size 640x480 with 1 Axes>"
      ]
     },
     "metadata": {},
     "output_type": "display_data"
    },
    {
     "name": "stdout",
     "output_type": "stream",
     "text": [
      "Prediction:  [0]\n",
      "Label:  4\n"
     ]
    },
    {
     "data": {
      "image/png": "[encoded data removed]",
      "text/plain": [
       "<Figure size 640x480 with 1 Axes>"
      ]
     },
     "metadata": {},
     "output_type": "display_data"
    },
    {
     "name": "stdout",
     "output_type": "stream",
     "text": [
      "Prediction:  [0]\n",
      "Label:  1\n"
     ]
    },
    {
     "data": {
      "image/png": "[encoded data removed]",
      "text/plain": [
       "<Figure size 640x480 with 1 Axes>"
      ]
     },
     "metadata": {},
     "output_type": "display_data"
    }
   ],
   "source": [
    "test_prediction(0, W1, b1, W2, b2)\n",
    "test_prediction(1, W1, b1, W2, b2)\n",
    "test_prediction(2, W1, b1, W2, b2)\n",
    "test_prediction(3, W1, b1, W2, b2)"
   ]
  },
  {
   "cell_type": "code",
   "execution_count": 13,
   "id": "8b3e4089",
   "metadata": {
    "execution": {
     "iopub.execute_input": "2023-03-21T04:42:28.904380Z",
     "iopub.status.busy": "2023-03-21T04:42:28.903796Z",
     "iopub.status.idle": "2023-03-21T04:42:28.936137Z",
     "shell.execute_reply": "2023-03-21T04:42:28.933918Z"
    },
    "papermill": {
     "duration": 0.049995,
     "end_time": "2023-03-21T04:42:28.941969",
     "exception": false,
     "start_time": "2023-03-21T04:42:28.891974",
     "status": "completed"
    },
    "tags": []
   },
   "outputs": [
    {
     "name": "stdout",
     "output_type": "stream",
     "text": [
      "[0 0 0 0 0 0 0 0 0 0 0 0 0 0 0 0 0 0 0 0 0 0 0 0 0 0 0 0 0 0 0 0 0 0 0 0 0\n",
      " 0 0 0 0 0 0 0 0 0 0 0 0 0 0 0 0 0 0 0 0 0 0 0 0 0 0 0 0 0 0 0 0 0 0 0 0 0\n",
      " 0 0 0 0 0 0 0 0 0 0 0 0 0 0 0 0 0 0 0 0 0 0 0 0 0 0 0 0 0 0 0 0 0 0 0 0 0\n",
      " 0 0 0 0 0 0 0 0 0 0 0 0 0 0 0 0 0 0 0 0 0 0 0 0 0 0 0 0 0 0 0 0 0 0 0 0 0\n",
      " 0 0 0 0 0 0 0 0 0 0 0 0 0 0 0 0 0 0 0 0 0 0 0 0 0 0 0 0 0 0 0 0 0 0 0 0 0\n",
      " 0 0 0 0 0 0 0 0 0 0 0 0 0 0 0 0 0 0 0 0 0 0 0 0 0 0 0 0 0 0 0 0 0 0 0 0 0\n",
      " 0 0 0 0 0 0 0 0 0 0 0 0 0 0 0 0 0 0 0 0 0 0 0 0 0 0 0 0 0 0 0 0 0 0 0 0 0\n",
      " 0 0 0 0 0 0 0 0 0 0 0 0 0 0 0 0 0 0 0 0 0 0 0 0 0 0 0 0 0 0 0 0 0 0 0 0 0\n",
      " 0 0 0 0 0 0 0 0 0 0 0 0 0 0 0 0 0 0 0 0 0 0 0 0 0 0 0 0 0 0 0 0 0 0 0 0 0\n",
      " 0 0 0 0 0 0 0 0 0 0 0 0 0 0 0 0 0 0 0 0 0 0 0 0 0 0 0 0 0 0 0 0 0 0 0 0 0\n",
      " 0 0 0 0 0 0 0 0 0 0 0 0 0 0 0 0 0 0 0 0 0 0 0 0 0 0 0 0 0 0 0 0 0 0 0 0 0\n",
      " 0 0 0 0 0 0 0 0 0 0 0 0 0 0 0 0 0 0 0 0 0 0 0 0 0 0 0 0 0 0 0 0 0 0 0 0 0\n",
      " 0 0 0 0 0 0 0 0 0 0 0 0 0 0 0 0 0 0 0 0 0 0 0 0 0 0 0 0 0 0 0 0 0 0 0 0 0\n",
      " 0 0 0 0 0 0 0 0 0 0 0 0 0 0 0 0 0 0 0 0 0 0 0 0 0 0 0 0 0 0 0 0 0 0 0 0 0\n",
      " 0 0 0 0 0 0 0 0 0 0 0 0 0 0 0 0 0 0 0 0 0 0 0 0 0 0 0 0 0 0 0 0 0 0 0 0 0\n",
      " 0 0 0 0 0 0 0 0 0 0 0 0 0 0 0 0 0 0 0 0 0 0 0 0 0 0 0 0 0 0 0 0 0 0 0 0 0\n",
      " 0 0 0 0 0 0 0 0 0 0 0 0 0 0 0 0 0 0 0 0 0 0 0 0 0 0 0 0 0 0 0 0 0 0 0 0 0\n",
      " 0 0 0 0 0 0 0 0 0 0 0 0 0 0 0 0 0 0 0 0 0 0 0 0 0 0 0 0 0 0 0 0 0 0 0 0 0\n",
      " 0 0 0 0 0 0 0 0 0 0 0 0 0 0 0 0 0 0 0 0 0 0 0 0 0 0 0 0 0 0 0 0 0 0 0 0 0\n",
      " 0 0 0 0 0 0 0 0 0 0 0 0 0 0 0 0 0 0 0 0 0 0 0 0 0 0 0 0 0 0 0 0 0 0 6 0 0\n",
      " 0 0 0 0 0 0 0 0 0 0 0 0 0 0 0 0 0 0 0 0 0 0 0 0 0 0 0 0 0 0 0 0 0 0 0 0 0\n",
      " 0 0 0 0 0 0 0 0 0 0 0 0 0 0 0 0 0 0 0 0 0 0 0 0 0 0 0 0 0 0 0 0 0 0 0 0 0\n",
      " 0 0 0 0 0 0 0 0 0 0 0 0 0 0 0 0 0 0 0 0 0 0 0 0 0 0 0 0 0 0 0 0 0 0 0 0 0\n",
      " 0 0 0 0 0 0 0 0 0 0 0 0 0 0 0 0 0 0 0 0 0 0 0 0 0 0 0 0 0 0 0 0 0 0 0 0 0\n",
      " 0 0 0 0 0 0 0 0 0 0 0 0 0 0 0 0 0 0 0 0 0 0 0 0 0 0 0 0 0 0 0 0 0 0 0 0 0\n",
      " 0 0 0 0 0 0 0 0 0 0 0 0 0 0 0 0 0 0 0 0 0 0 0 0 0 0 0 0 0 0 0 0 0 0 0 0 0\n",
      " 0 0 0 0 0 0 0 0 0 0 0 0 0 0 0 0 0 0 0 0 0 0 0 0 0 0 0 0 0 0 0 0 0 0 0 0 0\n",
      " 0] [8 0 6 3 9 8 8 1 4 8 5 0 9 4 0 0 9 6 2 3 0 9 9 7 1 5 5 1 6 7 5 9 4 8 1 5 8\n",
      " 8 7 9 5 8 6 5 7 5 1 8 1 8 0 0 4 9 5 9 1 1 7 2 0 3 2 3 8 0 6 9 3 5 0 8 6 1\n",
      " 2 0 8 4 0 8 3 4 3 1 4 6 6 6 5 2 2 1 6 8 9 6 1 4 1 0 7 1 2 7 0 4 3 1 6 7 0\n",
      " 3 0 6 2 2 7 8 0 5 4 4 7 5 2 3 4 6 7 2 1 9 5 2 4 4 1 0 9 9 9 0 6 6 4 7 3 8\n",
      " 4 8 6 0 4 2 9 7 7 3 3 3 8 4 9 3 0 6 6 1 0 3 5 4 5 1 2 7 0 1 4 3 6 1 7 8 6\n",
      " 9 8 4 6 2 1 0 5 2 6 1 3 4 1 1 5 8 2 5 7 9 4 4 6 5 3 3 4 1 9 8 5 2 1 5 0 0\n",
      " 4 2 2 9 7 7 6 0 5 2 4 3 1 9 7 3 7 7 2 2 8 6 0 4 8 0 4 1 1 8 8 1 0 4 5 7 7\n",
      " 9 6 5 3 0 2 4 3 8 4 5 3 2 9 1 1 3 2 0 9 3 7 9 8 2 6 1 2 2 4 4 7 5 2 6 8 0\n",
      " 5 9 7 8 0 9 7 1 6 0 0 0 7 6 7 8 6 5 0 2 1 1 1 5 0 5 0 3 9 2 2 7 7 1 0 9 6\n",
      " 3 1 2 2 0 1 0 7 2 1 3 6 5 8 6 4 3 6 9 9 3 1 3 0 7 2 5 8 4 3 0 8 3 6 3 6 0\n",
      " 3 8 8 5 0 1 9 0 7 2 5 2 0 8 8 0 7 9 1 1 7 1 3 5 6 5 5 4 9 0 4 2 4 3 2 7 8\n",
      " 9 9 4 8 0 0 9 9 8 3 2 6 9 1 6 8 0 3 0 4 9 3 9 5 3 9 3 2 0 7 5 0 4 6 1 0 4\n",
      " 2 9 2 5 5 5 4 9 0 7 0 6 7 7 5 4 2 7 0 8 6 9 6 1 6 9 7 8 5 9 8 0 9 9 9 6 5\n",
      " 0 0 5 9 4 1 6 1 4 3 0 7 2 6 7 8 1 0 8 5 0 2 7 6 8 4 7 7 7 4 9 3 0 7 2 7 1\n",
      " 2 8 8 9 5 4 4 4 8 0 1 0 1 1 2 3 3 2 6 6 1 7 3 6 4 3 9 4 6 2 1 8 1 2 8 7 6\n",
      " 5 4 9 2 2 1 9 3 7 9 9 1 6 1 9 1 0 9 2 2 1 0 1 0 5 9 5 1 0 9 6 5 1 7 4 9 7\n",
      " 4 8 4 6 0 2 3 9 8 5 6 4 9 4 0 6 6 8 8 2 3 2 9 1 9 7 1 2 2 6 5 7 1 4 0 8 3\n",
      " 9 9 1 5 1 7 7 7 8 0 2 2 8 8 3 8 1 0 2 0 4 2 2 0 6 1 1 8 9 0 8 7 4 7 6 7 0\n",
      " 1 7 8 9 8 2 3 2 9 4 8 5 6 8 0 6 8 6 4 7 9 0 1 3 9 4 1 0 3 4 1 2 1 4 1 6 7\n",
      " 7 7 5 7 0 5 9 3 0 6 8 4 1 9 5 1 2 8 8 7 1 9 8 2 2 2 5 7 8 3 5 1 0 8 1 5 1\n",
      " 9 0 3 3 1 3 0 8 1 7 0 2 3 1 8 9 6 7 3 5 5 5 3 3 7 3 7 8 2 6 0 8 3 2 4 1 0\n",
      " 7 4 7 9 6 1 2 9 0 3 2 2 3 7 0 3 9 3 3 1 7 7 6 7 5 8 9 4 4 9 3 1 0 1 1 9 8\n",
      " 9 1 4 2 9 1 3 4 2 8 7 3 2 6 8 0 2 5 6 3 9 9 4 0 4 2 9 4 9 6 4 0 0 4 9 1 0\n",
      " 7 6 3 8 5 5 9 0 7 1 4 7 7 5 5 2 4 9 8 1 7 9 4 7 4 5 7 0 1 1 0 2 8 3 1 7 8\n",
      " 2 1 1 1 4 1 6 8 7 6 5 4 6 8 6 9 2 1 3 6 0 4 5 6 1 5 5 5 9 7 1 2 3 3 9 7 1\n",
      " 1 5 4 4 6 7 5 5 4 1 0 1 9 1 7 7 1 8 0 3 2 1 2 9 2 2 6 8 1 1 4 4 8 5 0 6 2\n",
      " 7 8 9 2 4 0 1 8 6 7 1 0 3 3 8 8 1 8 6 2 8 9 4 7 6 8 0 2 6 6 1 6 5 8 1 1 5\n",
      " 8]\n"
     ]
    },
    {
     "data": {
      "text/plain": [
       "0.112"
      ]
     },
     "execution_count": 13,
     "metadata": {},
     "output_type": "execute_result"
    }
   ],
   "source": [
    "dev_predictions = make_predictions(X_dev, W1, b1, W2, b2)\n",
    "get_accuracy(dev_predictions, Y_dev)"
   ]
  }
 ],
 "metadata": {
  "kernelspec": {
   "display_name": "Python 3",
   "language": "python",
   "name": "python3"
  },
  "language_info": {
   "codemirror_mode": {
    "name": "ipython",
    "version": 3
   },
   "file_extension": ".py",
   "mimetype": "text/x-python",
   "name": "python",
   "nbconvert_exporter": "python",
   "pygments_lexer": "ipython3",
   "version": "3.7.12"
  },
  "papermill": {
   "default_parameters": {},
   "duration": 109.750238,
   "end_time": "2023-03-21T04:42:30.008536",
   "environment_variables": {},
   "exception": null,
   "input_path": "__notebook__.ipynb",
   "output_path": "__notebook__.ipynb",
   "parameters": {},
   "start_time": "2023-03-21T04:40:40.258298",
   "version": "2.4.0"
  }
 },
 "nbformat": 4,
 "nbformat_minor": 5
}
